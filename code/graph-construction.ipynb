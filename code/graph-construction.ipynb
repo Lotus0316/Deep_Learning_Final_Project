{
 "cells": [
  {
   "cell_type": "code",
   "execution_count": 1,
   "id": "5da8f71a",
   "metadata": {
    "ExecuteTime": {
     "end_time": "2023-04-05T13:33:19.829179Z",
     "start_time": "2023-04-05T13:33:18.629726Z"
    }
   },
   "outputs": [
    {
     "name": "stderr",
     "output_type": "stream",
     "text": [
      "d:\\Miniconda3\\envs\\8007project\\lib\\site-packages\\torchdata\\datapipes\\__init__.py:18: UserWarning: \n",
      "################################################################################\n",
      "WARNING!\n",
      "The 'datapipes', 'dataloader2' modules are deprecated and will be removed in a\n",
      "future torchdata release! Please see https://github.com/pytorch/data/issues/1196\n",
      "to learn more and leave feedback.\n",
      "################################################################################\n",
      "\n",
      "  deprecation_warning()\n"
     ]
    }
   ],
   "source": [
    "import torch\n",
    "import dgl\n",
    "import numpy as np\n",
    "import pandas as pd"
   ]
  },
  {
   "cell_type": "code",
   "execution_count": null,
   "id": "72dbdbec",
   "metadata": {
    "ExecuteTime": {
     "end_time": "2023-04-05T13:33:19.836229Z",
     "start_time": "2023-04-05T13:33:19.832289Z"
    }
   },
   "outputs": [],
   "source": [
    "edge_file_path = '../cleaned_data/graph_data/edge_ID.txt'\n",
    "node_type_file_path = '../cleaned_data/graph_data/node_type_ID.txt'"
   ]
  },
  {
   "cell_type": "markdown",
   "id": "358f903c",
   "metadata": {},
   "source": [
    "## Process Nodes"
   ]
  },
  {
   "cell_type": "code",
   "execution_count": 5,
   "id": "0575e46f",
   "metadata": {},
   "outputs": [
    {
     "data": {
      "text/html": [
       "<div>\n",
       "<style scoped>\n",
       "    .dataframe tbody tr th:only-of-type {\n",
       "        vertical-align: middle;\n",
       "    }\n",
       "\n",
       "    .dataframe tbody tr th {\n",
       "        vertical-align: top;\n",
       "    }\n",
       "\n",
       "    .dataframe thead th {\n",
       "        text-align: right;\n",
       "    }\n",
       "</style>\n",
       "<table border=\"1\" class=\"dataframe\">\n",
       "  <thead>\n",
       "    <tr style=\"text-align: right;\">\n",
       "      <th></th>\n",
       "      <th>ID</th>\n",
       "      <th>Type</th>\n",
       "    </tr>\n",
       "  </thead>\n",
       "  <tbody>\n",
       "    <tr>\n",
       "      <th>0</th>\n",
       "      <td>OhECKhQEexFypOMY6kypRw</td>\n",
       "      <td>U</td>\n",
       "    </tr>\n",
       "    <tr>\n",
       "      <th>1</th>\n",
       "      <td>4hBhtCSgoxkrFgHa4YAD-w</td>\n",
       "      <td>U</td>\n",
       "    </tr>\n",
       "    <tr>\n",
       "      <th>2</th>\n",
       "      <td>UsBxLh14sUpO8SdeqIiGOA</td>\n",
       "      <td>U</td>\n",
       "    </tr>\n",
       "    <tr>\n",
       "      <th>3</th>\n",
       "      <td>C_2mNjl-doRVvsL03_T57Q</td>\n",
       "      <td>U</td>\n",
       "    </tr>\n",
       "    <tr>\n",
       "      <th>4</th>\n",
       "      <td>RiQWbgwR-asiU_mA7s8gpg</td>\n",
       "      <td>U</td>\n",
       "    </tr>\n",
       "  </tbody>\n",
       "</table>\n",
       "</div>"
      ],
      "text/plain": [
       "                       ID Type\n",
       "0  OhECKhQEexFypOMY6kypRw    U\n",
       "1  4hBhtCSgoxkrFgHa4YAD-w    U\n",
       "2  UsBxLh14sUpO8SdeqIiGOA    U\n",
       "3  C_2mNjl-doRVvsL03_T57Q    U\n",
       "4  RiQWbgwR-asiU_mA7s8gpg    U"
      ]
     },
     "execution_count": 5,
     "metadata": {},
     "output_type": "execute_result"
    }
   ],
   "source": [
    "nodes = pd.read_csv(node_type_file_path, sep='\\t', header=None)\n",
    "nodes.columns = ['ID', 'Type']\n",
    "nodes.head()"
   ]
  },
  {
   "cell_type": "code",
   "execution_count": 17,
   "id": "d270860d",
   "metadata": {},
   "outputs": [],
   "source": [
    "user_node_set = nodes[nodes['Type']=='U']['ID'].to_list()\n",
    "poi_node_set = nodes[nodes['Type']=='P']['ID'].to_list()"
   ]
  },
  {
   "cell_type": "code",
   "execution_count": 18,
   "id": "4322ac16",
   "metadata": {
    "ExecuteTime": {
     "end_time": "2023-04-05T13:33:19.891919Z",
     "start_time": "2023-04-05T13:33:19.880883Z"
    }
   },
   "outputs": [],
   "source": [
    "user_node_set_map = { node_id: i  for i, node_id in enumerate(user_node_set) }\n",
    "poi_node_set_map  = { node_id: i  for i, node_id in enumerate(poi_node_set) }"
   ]
  },
  {
   "cell_type": "code",
   "execution_count": null,
   "id": "120becc8",
   "metadata": {
    "ExecuteTime": {
     "end_time": "2023-04-05T13:33:20.692450Z",
     "start_time": "2023-04-05T13:33:19.956058Z"
    }
   },
   "outputs": [],
   "source": [
    "'''\n",
    "在DGL的图里，所有的边都是有方向的， 即边 (u,v)  表示它是从节点 u  指向节点 v  的。\n",
    "所以最后是有四种边\n",
    "'''\n",
    "count=0\n",
    "user_user_edge = []\n",
    "user_user_edge_weight=[]\n",
    "\n",
    "poi_poi_edge = []\n",
    "poi_poi_edge_weight=[]\n",
    "\n",
    "user_poi_edge = []  \n",
    "user_poi_edge_weight=[]\n",
    "\n",
    "poi_user_edge = [] \n",
    "poi_user_edge_weight=[]\n",
    "\n",
    "with open(edge_file_path) as f:\n",
    "        lines = f.readlines()\n",
    "        for line in lines:\n",
    "            line_content = line.strip().split(\"\\t\")\n",
    "            source_node = line_content[0]\n",
    "            target_node = line_content[1]\n",
    "            edge_weight = eval(line_content[2])\n",
    "            if node_type_index[source_node] == 'P' and node_type_index[target_node] == 'P': #POI之间的边\n",
    "                poi_poi_edge.append(( poi_node_set_map[ source_node]  , poi_node_set_map[ target_node]        )  )\n",
    "                poi_poi_edge.append(( poi_node_set_map[ target_node]  , poi_node_set_map[ source_node]        )  )  # 此行把 POI边变成双向的\n",
    "                \n",
    "                poi_poi_edge_weight.append( edge_weight)\n",
    "                poi_poi_edge_weight.append( edge_weight) \n",
    "                \n",
    "            elif node_type_index[source_node] == 'U' and  node_type_index[target_node] == 'U':   #user之间的边\n",
    "                user_user_edge.append(( user_node_set_map[ source_node]  , user_node_set_map[ target_node]        )  )\n",
    "                user_user_edge.append(( user_node_set_map[ target_node]  , user_node_set_map[ source_node]        )  ) # 此行把 User边变成双向的\n",
    "                \n",
    "                user_user_edge_weight.append( edge_weight)\n",
    "                user_user_edge_weight.append( edge_weight)  #边重复了两次，权值自然要重复两次\n",
    "            else:\n",
    "                if node_type_index[source_node] == 'U':\n",
    "                    user_poi_edge.append(( user_node_set_map[ source_node]  , poi_node_set_map[ target_node])  )\n",
    "                    edge_weight=edge_weight*(dic[(source_node,target_node)]-1)*0.25\n",
    "                        \n",
    "                    user_poi_edge_weight.append( edge_weight)\n",
    "                    \n",
    "                    poi_user_edge.append(( poi_node_set_map[ target_node]  , user_node_set_map[ source_node]    )  )\n",
    "                    poi_user_edge_weight.append( edge_weight)\n",
    "                else:  #source_node P\n",
    "                    poi_user_edge.append(( poi_node_set_map[ source_node]  , user_node_set_map[ target_node]    )  )\n",
    "                    edge_weight=edge_weight*(dic[(source_node,target_node)]-1)*0.25\n",
    "                    poi_user_edge_weight.append( edge_weight)\n",
    "                    \n",
    "                    user_poi_edge.append(( user_node_set_map[ target_node]  , poi_node_set_map[ source_node]        )  )\n",
    "                    user_poi_edge_weight.append( edge_weight)"
   ]
  },
  {
   "cell_type": "code",
   "execution_count": 15,
   "id": "932dfcf6",
   "metadata": {
    "ExecuteTime": {
     "end_time": "2023-04-05T13:33:20.790378Z",
     "start_time": "2023-04-05T13:33:20.694754Z"
    }
   },
   "outputs": [],
   "source": [
    "user_user_edge_array = np.array(user_user_edge)\n",
    "user_user_edge_weight_array=np.array(user_user_edge_weight)#\n",
    "\n",
    "poi_poi_edge_array = np.array(poi_poi_edge)\n",
    "poi_poi_edge_weight_array =np.array(poi_poi_edge_weight)#\n",
    "\n",
    "user_poi_edge_array  = np.array(user_poi_edge)#\n",
    "user_poi_edge_weight_array  =np.array(user_poi_edge_weight)#\n",
    "\n",
    "poi_user_edge_array  = np.array(poi_user_edge)#\n",
    "poi_user_edge_weight_array  = np.array(poi_user_edge_weight)#"
   ]
  },
  {
   "cell_type": "code",
   "execution_count": 16,
   "id": "86d68bc7",
   "metadata": {
    "ExecuteTime": {
     "end_time": "2023-04-05T13:33:21.048880Z",
     "start_time": "2023-04-05T13:33:20.795295Z"
    }
   },
   "outputs": [],
   "source": [
    "graph_data = {\n",
    "    ('user', 'user_user', 'user'): (torch.tensor(user_user_edge_array[:,0]), torch.tensor(user_user_edge_array[:,1])),\n",
    "    ('user', 'user_poi', 'poi'): (torch.tensor(user_poi_edge_array[:,0]), torch.tensor(user_poi_edge_array[:,1])),\n",
    "    ('poi', 'poi_user', 'user'): (torch.tensor(poi_user_edge_array[:,0]), torch.tensor(poi_user_edge_array[:,1])),\n",
    "    ('poi', 'poi_poi', 'poi'): (torch.tensor(poi_poi_edge_array[:,0]), torch.tensor(poi_poi_edge_array[:,1]))\n",
    "}\n",
    "g = dgl.heterograph(graph_data)  #构建图"
   ]
  },
  {
   "cell_type": "code",
   "execution_count": 17,
   "id": "152e9a04",
   "metadata": {
    "ExecuteTime": {
     "end_time": "2023-04-05T13:33:21.062925Z",
     "start_time": "2023-04-05T13:33:21.053230Z"
    }
   },
   "outputs": [
    {
     "name": "stdout",
     "output_type": "stream",
     "text": [
      "['poi', 'user']\n",
      "[('poi', 'poi'), ('poi', 'user'), ('user', 'poi'), ('user', 'user')]\n",
      "user_num_nodes 6379\n",
      "poi_num_nodes 1434\n",
      "['poi_poi', 'poi_user', 'user_poi', 'user_user']\n",
      "[('poi', 'poi_poi', 'poi'), ('poi', 'poi_user', 'user'), ('user', 'user_poi', 'poi'), ('user', 'user_user', 'user')]\n"
     ]
    }
   ],
   "source": [
    "print(g.ntypes)\n",
    "print(g.metagraph().edges())\n",
    "print(\"user_num_nodes\",g.num_nodes('user'))\n",
    "print(\"poi_num_nodes\",g.num_nodes('poi'))\n",
    "print(g.etypes)\n",
    "print(g.canonical_etypes)"
   ]
  },
  {
   "cell_type": "code",
   "execution_count": 18,
   "id": "a2b7d064",
   "metadata": {
    "ExecuteTime": {
     "end_time": "2023-04-05T13:33:21.090417Z",
     "start_time": "2023-04-05T13:33:21.066800Z"
    }
   },
   "outputs": [],
   "source": [
    "#添加边特征\n",
    "g.edges['user_user'].data['w'] = torch.tensor ( user_user_edge_weight_array  , dtype=torch.float32)   \n",
    "g.edges['user_poi'].data['w'] = torch.tensor( user_poi_edge_weight_array  , dtype=torch.float32)   \n",
    "g.edges['poi_user'].data['w'] = torch.tensor( poi_user_edge_weight_array  , dtype=torch.float32) \n",
    "g.edges['poi_poi'].data['w'] = torch.tensor( poi_poi_edge_weight_array  , dtype=torch.float32)  "
   ]
  },
  {
   "cell_type": "code",
   "execution_count": 19,
   "id": "f5345a64",
   "metadata": {
    "ExecuteTime": {
     "end_time": "2023-04-05T13:33:21.113684Z",
     "start_time": "2023-04-05T13:33:21.094537Z"
    }
   },
   "outputs": [
    {
     "data": {
      "text/plain": [
       "Graph(num_nodes={'poi': 1434, 'user': 6379},\n",
       "      num_edges={('poi', 'poi_poi', 'poi'): 320, ('poi', 'poi_user', 'user'): 108312, ('user', 'user_poi', 'poi'): 108312, ('user', 'user_user', 'user'): 82808},\n",
       "      metagraph=[('poi', 'poi', 'poi_poi'), ('poi', 'user', 'poi_user'), ('user', 'poi', 'user_poi'), ('user', 'user', 'user_user')])"
      ]
     },
     "execution_count": 19,
     "metadata": {},
     "output_type": "execute_result"
    }
   ],
   "source": [
    "g"
   ]
  },
  {
   "cell_type": "code",
   "execution_count": null,
   "id": "e5291fa5-d796-439c-93c9-fcfaa65afaac",
   "metadata": {},
   "outputs": [],
   "source": [
    "poi_fe=np.load('../cleaned_data/graph_data/poi_fe.npy')\n",
    "user_fe=np.load('../cleaned_data/graph_data/user_fe.npy')"
   ]
  },
  {
   "cell_type": "code",
   "execution_count": null,
   "id": "18852b86-d4bd-4c17-a1b9-72e5bde133d9",
   "metadata": {},
   "outputs": [],
   "source": [
    "g.nodes['user'].data['fe']=torch.tensor(user_fe, dtype=torch.float32)\n",
    "g.nodes['poi'].data['fe']=torch.tensor(poi_fe, dtype=torch.float32)   "
   ]
  },
  {
   "cell_type": "code",
   "execution_count": 22,
   "id": "09946e87",
   "metadata": {},
   "outputs": [],
   "source": [
    "from dgl import save_graphs, load_graphs"
   ]
  },
  {
   "cell_type": "code",
   "execution_count": 23,
   "id": "a023f681-f23c-40c0-b69b-ee5e9b20b5ae",
   "metadata": {},
   "outputs": [],
   "source": [
    "torch.save(g, 'test')"
   ]
  },
  {
   "cell_type": "code",
   "execution_count": 24,
   "id": "f2946e72-80a3-473e-b4f8-b3f832d4c856",
   "metadata": {},
   "outputs": [],
   "source": [
    "m= torch.load('test')"
   ]
  },
  {
   "cell_type": "code",
   "execution_count": 25,
   "id": "3f67ca14-d1b6-4952-af34-3a39ac90d0c3",
   "metadata": {},
   "outputs": [
    {
     "data": {
      "text/plain": [
       "Graph(num_nodes={'poi': 1434, 'user': 6379},\n",
       "      num_edges={('poi', 'poi_poi', 'poi'): 320, ('poi', 'poi_user', 'user'): 108312, ('user', 'user_poi', 'poi'): 108312, ('user', 'user_user', 'user'): 82808},\n",
       "      metagraph=[('poi', 'poi', 'poi_poi'), ('poi', 'user', 'poi_user'), ('user', 'poi', 'user_poi'), ('user', 'user', 'user_user')])"
      ]
     },
     "execution_count": 25,
     "metadata": {},
     "output_type": "execute_result"
    }
   ],
   "source": [
    "m"
   ]
  }
 ],
 "metadata": {
  "kernelspec": {
   "display_name": "8007_project",
   "language": "python",
   "name": "8007project"
  },
  "language_info": {
   "codemirror_mode": {
    "name": "ipython",
    "version": 3
   },
   "file_extension": ".py",
   "mimetype": "text/x-python",
   "name": "python",
   "nbconvert_exporter": "python",
   "pygments_lexer": "ipython3",
   "version": "3.8.19"
  },
  "toc": {
   "base_numbering": 1,
   "nav_menu": {},
   "number_sections": true,
   "sideBar": true,
   "skip_h1_title": false,
   "title_cell": "Table of Contents",
   "title_sidebar": "Contents",
   "toc_cell": false,
   "toc_position": {},
   "toc_section_display": true,
   "toc_window_display": false
  }
 },
 "nbformat": 4,
 "nbformat_minor": 5
}
