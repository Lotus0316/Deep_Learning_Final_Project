{
 "cells": [
  {
   "cell_type": "code",
   "execution_count": 1,
   "id": "5da8f71a",
   "metadata": {
    "ExecuteTime": {
     "end_time": "2023-04-05T13:33:19.829179Z",
     "start_time": "2023-04-05T13:33:18.629726Z"
    }
   },
   "outputs": [
    {
     "name": "stderr",
     "output_type": "stream",
     "text": [
      "d:\\Miniconda3\\envs\\8007project\\lib\\site-packages\\tqdm\\auto.py:21: TqdmWarning: IProgress not found. Please update jupyter and ipywidgets. See https://ipywidgets.readthedocs.io/en/stable/user_install.html\n",
      "  from .autonotebook import tqdm as notebook_tqdm\n",
      "d:\\Miniconda3\\envs\\8007project\\lib\\site-packages\\torchdata\\datapipes\\__init__.py:18: UserWarning: \n",
      "################################################################################\n",
      "WARNING!\n",
      "The 'datapipes', 'dataloader2' modules are deprecated and will be removed in a\n",
      "future torchdata release! Please see https://github.com/pytorch/data/issues/1196\n",
      "to learn more and leave feedback.\n",
      "################################################################################\n",
      "\n",
      "  deprecation_warning()\n"
     ]
    }
   ],
   "source": [
    "import torch\n",
    "import dgl\n",
    "import numpy as np"
   ]
  },
  {
   "cell_type": "code",
   "execution_count": 6,
   "id": "72dbdbec",
   "metadata": {
    "ExecuteTime": {
     "end_time": "2023-04-05T13:33:19.836229Z",
     "start_time": "2023-04-05T13:33:19.832289Z"
    }
   },
   "outputs": [],
   "source": [
    "edge_file_path = '/root/create_graph/edge_ID.txt'\n",
    "node_type_file_path = '/root/create_graph/node_type_ID.txt'"
   ]
  },
  {
   "cell_type": "code",
   "execution_count": 4,
   "id": "f8cf9348-5376-494e-95a1-00197a111c7f",
   "metadata": {},
   "outputs": [],
   "source": [
    "import pandas as pd\n",
    "\n",
    "df=pd.read_csv('res2.csv',encoding = \"ISO-8859-1\")"
   ]
  },
  {
   "cell_type": "code",
   "execution_count": 5,
   "id": "76fa37f3-2cc2-4a7a-a43d-b8127e76c6ba",
   "metadata": {},
   "outputs": [],
   "source": [
    "df['business_id'] =  df['business_id'].astype(str)+'_POI'"
   ]
  },
  {
   "cell_type": "code",
   "execution_count": 6,
   "id": "bfa81ab7-0b30-465f-8a6e-dc68c286478b",
   "metadata": {},
   "outputs": [],
   "source": [
    "df3=pd.read_csv(\"/root/autodl-tmp/my_file/res3.csv\")"
   ]
  },
  {
   "cell_type": "code",
   "execution_count": 7,
   "id": "649fb763-d6a4-4dae-be57-2849b5548652",
   "metadata": {},
   "outputs": [],
   "source": [
    "import json\n",
    "f = open('/root/autodl-tmp/review.json')\n",
    "data = json.load(f)\n",
    "df2 = pd.DataFrame(data['data'],columns =data['columns'])"
   ]
  },
  {
   "cell_type": "code",
   "execution_count": 8,
   "id": "6b522b07-54f3-446f-ae43-5fd53afcbb98",
   "metadata": {},
   "outputs": [],
   "source": [
    "df2['business_id'] =  df2['business_id'].astype(str)+'_POI'"
   ]
  },
  {
   "cell_type": "code",
   "execution_count": 10,
   "id": "8e484162-4eda-4c64-be77-a3671d589be1",
   "metadata": {},
   "outputs": [],
   "source": [
    "for i in range(len(df)):\n",
    "    dic[(df.loc[i,'user_id'],df.loc[i,'business_id'])]=df.loc[i,'star']\n",
    "    dic[(df.loc[i,'business_id'],df.loc[i,'user_id'])]=df.loc[i,'star']\n",
    "for i in range(len(df2)):\n",
    "    dic[(df2.loc[i,'user_id'],df2.loc[i,'business_id'])]=df2.loc[i,'stars']\n",
    "    dic[(df2.loc[i,'business_id'],df2.loc[i,'user_id'])]=df2.loc[i,'stars']\n",
    "for i in range(len(df3)):\n",
    "    dic[(df3.loc[i,'user_id'],df3.loc[i,'business_id'])]=df3.loc[i,'stars']\n",
    "    dic[(df3.loc[i,'business_id'],df3.loc[i,'user_id'])]=df3.loc[i,'stars']"
   ]
  },
  {
   "cell_type": "code",
   "execution_count": 10,
   "id": "c81af05d",
   "metadata": {
    "ExecuteTime": {
     "end_time": "2023-04-05T13:33:19.878825Z",
     "start_time": "2023-04-05T13:33:19.838148Z"
    }
   },
   "outputs": [],
   "source": [
    "import os\n",
    "os.chdir('/root/create_graph')\n",
    "node_type_index={} # ID: type\n",
    "#两类节点，四类边\n",
    "user_node_set=[]\n",
    "poi_node_set=[]\n",
    "\n",
    "with open(node_type_file_path) as f:\n",
    "        lines = f.readlines()\n",
    "        for line in lines:\n",
    "            line_content = line.strip().split(\"\\t\")\n",
    "            node = line_content[0]\n",
    "            node_type = line_content[1]\n",
    "            node_type_index[node] = node_type\n",
    "            \n",
    "            if node_type=='P':\n",
    "                poi_node_set.append(node)\n",
    "            elif node_type=='U':\n",
    "                user_node_set.append(node)"
   ]
  },
  {
   "cell_type": "code",
   "execution_count": 11,
   "id": "a77d66aa-cfb7-4388-b297-0dcb74708ca2",
   "metadata": {},
   "outputs": [
    {
     "data": {
      "text/plain": [
       "'/root/create_graph'"
      ]
     },
     "execution_count": 11,
     "metadata": {},
     "output_type": "execute_result"
    }
   ],
   "source": [
    "os.getcwd()"
   ]
  },
  {
   "cell_type": "code",
   "execution_count": 12,
   "id": "4322ac16",
   "metadata": {
    "ExecuteTime": {
     "end_time": "2023-04-05T13:33:19.891919Z",
     "start_time": "2023-04-05T13:33:19.880883Z"
    }
   },
   "outputs": [],
   "source": [
    "user_node_set_map = { node_id: i  for i, node_id in enumerate(user_node_set) }  #对于每一类节点，dgl中都是从0 开始索引的\n",
    "poi_node_set_map  = { node_id: i  for i, node_id in enumerate(poi_node_set) }"
   ]
  },
  {
   "cell_type": "code",
   "execution_count": 13,
   "id": "120becc8",
   "metadata": {
    "ExecuteTime": {
     "end_time": "2023-04-05T13:33:20.692450Z",
     "start_time": "2023-04-05T13:33:19.956058Z"
    }
   },
   "outputs": [],
   "source": [
    "'''\n",
    "在DGL的图里，所有的边都是有方向的， 即边 (u,v)  表示它是从节点 u  指向节点 v  的。\n",
    "所以最后是有四种边\n",
    "'''\n",
    "count=0\n",
    "user_user_edge = []\n",
    "user_user_edge_weight=[]\n",
    "\n",
    "poi_poi_edge = []\n",
    "poi_poi_edge_weight=[]\n",
    "\n",
    "user_poi_edge = []  #\n",
    "user_poi_edge_weight=[]\n",
    "\n",
    "poi_user_edge = []  #\n",
    "poi_user_edge_weight=[]\n",
    "\n",
    "with open(edge_file_path) as f:\n",
    "        lines = f.readlines()\n",
    "        for line in lines:\n",
    "            line_content = line.strip().split(\"\\t\")\n",
    "            source_node = line_content[0]\n",
    "            target_node = line_content[1]\n",
    "            edge_weight = eval(line_content[2])\n",
    "            if node_type_index[source_node] == 'P' and node_type_index[target_node] == 'P': #POI之间的边\n",
    "                poi_poi_edge.append(( poi_node_set_map[ source_node]  , poi_node_set_map[ target_node]        )  )\n",
    "                poi_poi_edge.append(( poi_node_set_map[ target_node]  , poi_node_set_map[ source_node]        )  )  # 此行把 POI边变成双向的\n",
    "                \n",
    "                poi_poi_edge_weight.append( edge_weight)\n",
    "                poi_poi_edge_weight.append( edge_weight) \n",
    "                \n",
    "            elif node_type_index[source_node] == 'U' and  node_type_index[target_node] == 'U':   #user之间的边\n",
    "                user_user_edge.append(( user_node_set_map[ source_node]  , user_node_set_map[ target_node]        )  )\n",
    "                user_user_edge.append(( user_node_set_map[ target_node]  , user_node_set_map[ source_node]        )  ) # 此行把 User边变成双向的\n",
    "                \n",
    "                user_user_edge_weight.append( edge_weight)\n",
    "                user_user_edge_weight.append( edge_weight)  #边重复了两次，权值自然要重复两次\n",
    "            else:\n",
    "                if node_type_index[source_node] == 'U':\n",
    "                    user_poi_edge.append(( user_node_set_map[ source_node]  , poi_node_set_map[ target_node])  )\n",
    "                    edge_weight=edge_weight*(dic[(source_node,target_node)]-1)*0.25\n",
    "                        \n",
    "                    user_poi_edge_weight.append( edge_weight)\n",
    "                    \n",
    "                    poi_user_edge.append(( poi_node_set_map[ target_node]  , user_node_set_map[ source_node]    )  )\n",
    "                    poi_user_edge_weight.append( edge_weight)\n",
    "                else:  #source_node P\n",
    "                    poi_user_edge.append(( poi_node_set_map[ source_node]  , user_node_set_map[ target_node]    )  )\n",
    "                    edge_weight=edge_weight*(dic[(source_node,target_node)]-1)*0.25\n",
    "                    poi_user_edge_weight.append( edge_weight)\n",
    "                    \n",
    "                    user_poi_edge.append(( user_node_set_map[ target_node]  , poi_node_set_map[ source_node]        )  )\n",
    "                    user_poi_edge_weight.append( edge_weight)"
   ]
  },
  {
   "cell_type": "code",
   "execution_count": 14,
   "id": "34794a2d-0602-48dc-9a6a-3a61f2c94983",
   "metadata": {},
   "outputs": [
    {
     "data": {
      "text/plain": [
       "5"
      ]
     },
     "execution_count": 14,
     "metadata": {},
     "output_type": "execute_result"
    }
   ],
   "source": [
    "dic[('kZtl_NJjUnlIQgzFrBhXyQ_POI','-bilc2bsxQWUOjy7SIpYmQ')]"
   ]
  },
  {
   "cell_type": "code",
   "execution_count": 15,
   "id": "932dfcf6",
   "metadata": {
    "ExecuteTime": {
     "end_time": "2023-04-05T13:33:20.790378Z",
     "start_time": "2023-04-05T13:33:20.694754Z"
    }
   },
   "outputs": [],
   "source": [
    "user_user_edge_array = np.array(user_user_edge)\n",
    "user_user_edge_weight_array=np.array(user_user_edge_weight)#\n",
    "\n",
    "poi_poi_edge_array = np.array(poi_poi_edge)\n",
    "poi_poi_edge_weight_array =np.array(poi_poi_edge_weight)#\n",
    "\n",
    "user_poi_edge_array  = np.array(user_poi_edge)#\n",
    "user_poi_edge_weight_array  =np.array(user_poi_edge_weight)#\n",
    "\n",
    "poi_user_edge_array  = np.array(poi_user_edge)#\n",
    "poi_user_edge_weight_array  = np.array(poi_user_edge_weight)#"
   ]
  },
  {
   "cell_type": "code",
   "execution_count": 16,
   "id": "86d68bc7",
   "metadata": {
    "ExecuteTime": {
     "end_time": "2023-04-05T13:33:21.048880Z",
     "start_time": "2023-04-05T13:33:20.795295Z"
    }
   },
   "outputs": [],
   "source": [
    "graph_data = {\n",
    "    ('user', 'user_user', 'user'): (torch.tensor(user_user_edge_array[:,0]), torch.tensor(user_user_edge_array[:,1])),\n",
    "    ('user', 'user_poi', 'poi'): (torch.tensor(user_poi_edge_array[:,0]), torch.tensor(user_poi_edge_array[:,1])),\n",
    "    ('poi', 'poi_user', 'user'): (torch.tensor(poi_user_edge_array[:,0]), torch.tensor(poi_user_edge_array[:,1])),\n",
    "    ('poi', 'poi_poi', 'poi'): (torch.tensor(poi_poi_edge_array[:,0]), torch.tensor(poi_poi_edge_array[:,1]))\n",
    "}\n",
    "g = dgl.heterograph(graph_data)  #构建图"
   ]
  },
  {
   "cell_type": "code",
   "execution_count": 17,
   "id": "152e9a04",
   "metadata": {
    "ExecuteTime": {
     "end_time": "2023-04-05T13:33:21.062925Z",
     "start_time": "2023-04-05T13:33:21.053230Z"
    }
   },
   "outputs": [
    {
     "name": "stdout",
     "output_type": "stream",
     "text": [
      "['poi', 'user']\n",
      "[('poi', 'poi'), ('poi', 'user'), ('user', 'poi'), ('user', 'user')]\n",
      "user_num_nodes 6379\n",
      "poi_num_nodes 1434\n",
      "['poi_poi', 'poi_user', 'user_poi', 'user_user']\n",
      "[('poi', 'poi_poi', 'poi'), ('poi', 'poi_user', 'user'), ('user', 'user_poi', 'poi'), ('user', 'user_user', 'user')]\n"
     ]
    }
   ],
   "source": [
    "print(g.ntypes)\n",
    "print(g.metagraph().edges())\n",
    "print(\"user_num_nodes\",g.num_nodes('user'))\n",
    "print(\"poi_num_nodes\",g.num_nodes('poi'))\n",
    "print(g.etypes)\n",
    "print(g.canonical_etypes)"
   ]
  },
  {
   "cell_type": "code",
   "execution_count": 18,
   "id": "a2b7d064",
   "metadata": {
    "ExecuteTime": {
     "end_time": "2023-04-05T13:33:21.090417Z",
     "start_time": "2023-04-05T13:33:21.066800Z"
    }
   },
   "outputs": [],
   "source": [
    "#添加边特征\n",
    "g.edges['user_user'].data['w'] = torch.tensor ( user_user_edge_weight_array  , dtype=torch.float32)   \n",
    "g.edges['user_poi'].data['w'] = torch.tensor( user_poi_edge_weight_array  , dtype=torch.float32)   \n",
    "g.edges['poi_user'].data['w'] = torch.tensor( poi_user_edge_weight_array  , dtype=torch.float32) \n",
    "g.edges['poi_poi'].data['w'] = torch.tensor( poi_poi_edge_weight_array  , dtype=torch.float32)  "
   ]
  },
  {
   "cell_type": "code",
   "execution_count": 19,
   "id": "f5345a64",
   "metadata": {
    "ExecuteTime": {
     "end_time": "2023-04-05T13:33:21.113684Z",
     "start_time": "2023-04-05T13:33:21.094537Z"
    }
   },
   "outputs": [
    {
     "data": {
      "text/plain": [
       "Graph(num_nodes={'poi': 1434, 'user': 6379},\n",
       "      num_edges={('poi', 'poi_poi', 'poi'): 320, ('poi', 'poi_user', 'user'): 108312, ('user', 'user_poi', 'poi'): 108312, ('user', 'user_user', 'user'): 82808},\n",
       "      metagraph=[('poi', 'poi', 'poi_poi'), ('poi', 'user', 'poi_user'), ('user', 'poi', 'user_poi'), ('user', 'user', 'user_user')])"
      ]
     },
     "execution_count": 19,
     "metadata": {},
     "output_type": "execute_result"
    }
   ],
   "source": [
    "g"
   ]
  },
  {
   "cell_type": "code",
   "execution_count": 20,
   "id": "e5291fa5-d796-439c-93c9-fcfaa65afaac",
   "metadata": {},
   "outputs": [],
   "source": [
    "poi_fe=np.load('/root/autodl-tmp/poi_fe.npy')\n",
    "user_fe=np.load('/root/autodl-tmp/user_fe.npy')"
   ]
  },
  {
   "cell_type": "code",
   "execution_count": 21,
   "id": "18852b86-d4bd-4c17-a1b9-72e5bde133d9",
   "metadata": {},
   "outputs": [],
   "source": [
    "g.nodes['user'].data['fe']=torch.tensor ( user_fe , dtype=torch.float32)\n",
    "g.nodes['poi'].data['fe']=torch.tensor ( poi_fe , dtype=torch.float32)   "
   ]
  },
  {
   "cell_type": "code",
   "execution_count": 22,
   "id": "09946e87",
   "metadata": {},
   "outputs": [],
   "source": [
    "from dgl import save_graphs, load_graphs"
   ]
  },
  {
   "cell_type": "code",
   "execution_count": 23,
   "id": "a023f681-f23c-40c0-b69b-ee5e9b20b5ae",
   "metadata": {},
   "outputs": [],
   "source": [
    "torch.save(g, 'test')"
   ]
  },
  {
   "cell_type": "code",
   "execution_count": 24,
   "id": "f2946e72-80a3-473e-b4f8-b3f832d4c856",
   "metadata": {},
   "outputs": [],
   "source": [
    "m= torch.load('test')"
   ]
  },
  {
   "cell_type": "code",
   "execution_count": 25,
   "id": "3f67ca14-d1b6-4952-af34-3a39ac90d0c3",
   "metadata": {},
   "outputs": [
    {
     "data": {
      "text/plain": [
       "Graph(num_nodes={'poi': 1434, 'user': 6379},\n",
       "      num_edges={('poi', 'poi_poi', 'poi'): 320, ('poi', 'poi_user', 'user'): 108312, ('user', 'user_poi', 'poi'): 108312, ('user', 'user_user', 'user'): 82808},\n",
       "      metagraph=[('poi', 'poi', 'poi_poi'), ('poi', 'user', 'poi_user'), ('user', 'poi', 'user_poi'), ('user', 'user', 'user_user')])"
      ]
     },
     "execution_count": 25,
     "metadata": {},
     "output_type": "execute_result"
    }
   ],
   "source": [
    "m"
   ]
  },
  {
   "cell_type": "code",
   "execution_count": null,
   "id": "2a08c4bd-a907-489f-a6cf-e957dc6af997",
   "metadata": {},
   "outputs": [],
   "source": []
  }
 ],
 "metadata": {
  "kernelspec": {
   "display_name": "8007_project",
   "language": "python",
   "name": "8007project"
  },
  "language_info": {
   "codemirror_mode": {
    "name": "ipython",
    "version": 3
   },
   "file_extension": ".py",
   "mimetype": "text/x-python",
   "name": "python",
   "nbconvert_exporter": "python",
   "pygments_lexer": "ipython3",
   "version": "3.8.19"
  },
  "toc": {
   "base_numbering": 1,
   "nav_menu": {},
   "number_sections": true,
   "sideBar": true,
   "skip_h1_title": false,
   "title_cell": "Table of Contents",
   "title_sidebar": "Contents",
   "toc_cell": false,
   "toc_position": {},
   "toc_section_display": true,
   "toc_window_display": false
  }
 },
 "nbformat": 4,
 "nbformat_minor": 5
}
