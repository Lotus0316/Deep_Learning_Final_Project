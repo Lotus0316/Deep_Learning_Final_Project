{
 "cells": [
  {
   "cell_type": "code",
   "execution_count": 5,
   "id": "5da8f71a",
   "metadata": {
    "ExecuteTime": {
     "end_time": "2023-04-07T18:18:41.127520Z",
     "start_time": "2023-04-07T18:18:39.796266Z"
    }
   },
   "outputs": [],
   "source": [
    "import numpy as np\n",
    "import pandas as pd\n",
    "from sklearn.decomposition import PCA"
   ]
  },
  {
   "cell_type": "code",
   "execution_count": 6,
   "id": "72dbdbec",
   "metadata": {
    "ExecuteTime": {
     "end_time": "2023-04-07T18:18:41.134429Z",
     "start_time": "2023-04-07T18:18:41.130493Z"
    }
   },
   "outputs": [],
   "source": [
    "node_type_file_path = \"../cleaned_data/graph_data/node_type_ID.txt\""
   ]
  },
  {
   "cell_type": "code",
   "execution_count": 7,
   "id": "c81af05d",
   "metadata": {
    "ExecuteTime": {
     "end_time": "2023-04-07T18:20:22.731323Z",
     "start_time": "2023-04-07T18:20:22.620357Z"
    }
   },
   "outputs": [],
   "source": [
    "node_type_index = {}  # ID: type\n",
    "user_node_set = []\n",
    "poi_node_set = []\n",
    "\n",
    "with open(node_type_file_path) as f:\n",
    "    lines = f.readlines()\n",
    "    for line in lines:\n",
    "        line_content = line.strip().split(\"\\t\")\n",
    "        node = line_content[0]\n",
    "        node_type = line_content[1]\n",
    "        node_type_index[node] = node_type\n",
    "\n",
    "        if node_type == \"P\":\n",
    "            poi_node_set.append(node)\n",
    "        elif node_type == \"U\":\n",
    "            user_node_set.append(node)"
   ]
  },
  {
   "cell_type": "code",
   "execution_count": 8,
   "id": "4322ac16",
   "metadata": {
    "ExecuteTime": {
     "end_time": "2023-04-07T18:20:22.757008Z",
     "start_time": "2023-04-07T18:20:22.733927Z"
    }
   },
   "outputs": [],
   "source": [
    "user_node_set_map = {node_id: i for i, node_id in enumerate(user_node_set)}\n",
    "poi_node_set_map = {node_id: i for i, node_id in enumerate(poi_node_set)}"
   ]
  },
  {
   "cell_type": "code",
   "execution_count": 9,
   "id": "6d4f5eb6",
   "metadata": {},
   "outputs": [],
   "source": [
    "def minus_mean(x):\n",
    "    return x - x.mean()"
   ]
  },
  {
   "cell_type": "markdown",
   "id": "e69983b5",
   "metadata": {},
   "source": [
    "## Processing Features of User Node "
   ]
  },
  {
   "cell_type": "code",
   "execution_count": 10,
   "id": "3945aa3e",
   "metadata": {},
   "outputs": [],
   "source": [
    "all_user = pd.read_csv(\"../cleaned_data/splited_data/train/new_user.csv\")\n",
    "all_user.set_index(\"user_id\", inplace=True)\n",
    "all_user[\"elite\"] = all_user[\"elite\"].map(\n",
    "    lambda x: len(str(x).split(\",\")) if str(x) != \"nan\" else 0\n",
    ")"
   ]
  },
  {
   "cell_type": "code",
   "execution_count": 11,
   "id": "61dbdcc2",
   "metadata": {},
   "outputs": [],
   "source": [
    "all_user = all_user[[\"useful\", \"elite\", \"average_stars\"]]\n",
    "m=np.linalg.norm(all_user[\"useful\"])\n",
    "res=all_user[\"useful\"]/m\n",
    "all_user[\"useful\"] = res\n",
    "m=np.linalg.norm(all_user[\"elite\"])\n",
    "res=all_user[\"elite\"]/m\n",
    "all_user[\"elite\"] = res\n",
    "m=np.linalg.norm(all_user[\"average_stars\"])\n",
    "res=all_user[\"average_stars\"]/m\n",
    "all_user[\"average_stars\"] = res"
   ]
  },
  {
   "cell_type": "code",
   "execution_count": 12,
   "id": "648cd713",
   "metadata": {},
   "outputs": [
    {
     "ename": "KeyError",
     "evalue": "'OhECKhQEexFypOMY6kypRw'",
     "output_type": "error",
     "traceback": [
      "\u001b[1;31m---------------------------------------------------------------------------\u001b[0m",
      "\u001b[1;31mKeyError\u001b[0m                                  Traceback (most recent call last)",
      "File \u001b[1;32md:\\Miniconda3\\envs\\8007project\\lib\\site-packages\\pandas\\core\\indexes\\base.py:3653\u001b[0m, in \u001b[0;36mIndex.get_loc\u001b[1;34m(self, key)\u001b[0m\n\u001b[0;32m   3652\u001b[0m \u001b[38;5;28;01mtry\u001b[39;00m:\n\u001b[1;32m-> 3653\u001b[0m     \u001b[38;5;28;01mreturn\u001b[39;00m \u001b[38;5;28;43mself\u001b[39;49m\u001b[38;5;241;43m.\u001b[39;49m\u001b[43m_engine\u001b[49m\u001b[38;5;241;43m.\u001b[39;49m\u001b[43mget_loc\u001b[49m\u001b[43m(\u001b[49m\u001b[43mcasted_key\u001b[49m\u001b[43m)\u001b[49m\n\u001b[0;32m   3654\u001b[0m \u001b[38;5;28;01mexcept\u001b[39;00m \u001b[38;5;167;01mKeyError\u001b[39;00m \u001b[38;5;28;01mas\u001b[39;00m err:\n",
      "File \u001b[1;32md:\\Miniconda3\\envs\\8007project\\lib\\site-packages\\pandas\\_libs\\index.pyx:147\u001b[0m, in \u001b[0;36mpandas._libs.index.IndexEngine.get_loc\u001b[1;34m()\u001b[0m\n",
      "File \u001b[1;32md:\\Miniconda3\\envs\\8007project\\lib\\site-packages\\pandas\\_libs\\index.pyx:176\u001b[0m, in \u001b[0;36mpandas._libs.index.IndexEngine.get_loc\u001b[1;34m()\u001b[0m\n",
      "File \u001b[1;32mpandas\\_libs\\hashtable_class_helper.pxi:7080\u001b[0m, in \u001b[0;36mpandas._libs.hashtable.PyObjectHashTable.get_item\u001b[1;34m()\u001b[0m\n",
      "File \u001b[1;32mpandas\\_libs\\hashtable_class_helper.pxi:7088\u001b[0m, in \u001b[0;36mpandas._libs.hashtable.PyObjectHashTable.get_item\u001b[1;34m()\u001b[0m\n",
      "\u001b[1;31mKeyError\u001b[0m: 'OhECKhQEexFypOMY6kypRw'",
      "\nThe above exception was the direct cause of the following exception:\n",
      "\u001b[1;31mKeyError\u001b[0m                                  Traceback (most recent call last)",
      "Cell \u001b[1;32mIn[12], line 1\u001b[0m\n\u001b[1;32m----> 1\u001b[0m user_fe \u001b[38;5;241m=\u001b[39m np\u001b[38;5;241m.\u001b[39marray([all_user\u001b[38;5;241m.\u001b[39mloc[k]\u001b[38;5;241m.\u001b[39mtolist() \u001b[38;5;28;01mfor\u001b[39;00m k \u001b[38;5;129;01min\u001b[39;00m user_node_set_map\u001b[38;5;241m.\u001b[39mkeys()])\n",
      "Cell \u001b[1;32mIn[12], line 1\u001b[0m, in \u001b[0;36m<listcomp>\u001b[1;34m(.0)\u001b[0m\n\u001b[1;32m----> 1\u001b[0m user_fe \u001b[38;5;241m=\u001b[39m np\u001b[38;5;241m.\u001b[39marray([\u001b[43mall_user\u001b[49m\u001b[38;5;241;43m.\u001b[39;49m\u001b[43mloc\u001b[49m\u001b[43m[\u001b[49m\u001b[43mk\u001b[49m\u001b[43m]\u001b[49m\u001b[38;5;241m.\u001b[39mtolist() \u001b[38;5;28;01mfor\u001b[39;00m k \u001b[38;5;129;01min\u001b[39;00m user_node_set_map\u001b[38;5;241m.\u001b[39mkeys()])\n",
      "File \u001b[1;32md:\\Miniconda3\\envs\\8007project\\lib\\site-packages\\pandas\\core\\indexing.py:1103\u001b[0m, in \u001b[0;36m_LocationIndexer.__getitem__\u001b[1;34m(self, key)\u001b[0m\n\u001b[0;32m   1100\u001b[0m axis \u001b[38;5;241m=\u001b[39m \u001b[38;5;28mself\u001b[39m\u001b[38;5;241m.\u001b[39maxis \u001b[38;5;129;01mor\u001b[39;00m \u001b[38;5;241m0\u001b[39m\n\u001b[0;32m   1102\u001b[0m maybe_callable \u001b[38;5;241m=\u001b[39m com\u001b[38;5;241m.\u001b[39mapply_if_callable(key, \u001b[38;5;28mself\u001b[39m\u001b[38;5;241m.\u001b[39mobj)\n\u001b[1;32m-> 1103\u001b[0m \u001b[38;5;28;01mreturn\u001b[39;00m \u001b[38;5;28;43mself\u001b[39;49m\u001b[38;5;241;43m.\u001b[39;49m\u001b[43m_getitem_axis\u001b[49m\u001b[43m(\u001b[49m\u001b[43mmaybe_callable\u001b[49m\u001b[43m,\u001b[49m\u001b[43m \u001b[49m\u001b[43maxis\u001b[49m\u001b[38;5;241;43m=\u001b[39;49m\u001b[43maxis\u001b[49m\u001b[43m)\u001b[49m\n",
      "File \u001b[1;32md:\\Miniconda3\\envs\\8007project\\lib\\site-packages\\pandas\\core\\indexing.py:1343\u001b[0m, in \u001b[0;36m_LocIndexer._getitem_axis\u001b[1;34m(self, key, axis)\u001b[0m\n\u001b[0;32m   1341\u001b[0m \u001b[38;5;66;03m# fall thru to straight lookup\u001b[39;00m\n\u001b[0;32m   1342\u001b[0m \u001b[38;5;28mself\u001b[39m\u001b[38;5;241m.\u001b[39m_validate_key(key, axis)\n\u001b[1;32m-> 1343\u001b[0m \u001b[38;5;28;01mreturn\u001b[39;00m \u001b[38;5;28;43mself\u001b[39;49m\u001b[38;5;241;43m.\u001b[39;49m\u001b[43m_get_label\u001b[49m\u001b[43m(\u001b[49m\u001b[43mkey\u001b[49m\u001b[43m,\u001b[49m\u001b[43m \u001b[49m\u001b[43maxis\u001b[49m\u001b[38;5;241;43m=\u001b[39;49m\u001b[43maxis\u001b[49m\u001b[43m)\u001b[49m\n",
      "File \u001b[1;32md:\\Miniconda3\\envs\\8007project\\lib\\site-packages\\pandas\\core\\indexing.py:1293\u001b[0m, in \u001b[0;36m_LocIndexer._get_label\u001b[1;34m(self, label, axis)\u001b[0m\n\u001b[0;32m   1291\u001b[0m \u001b[38;5;28;01mdef\u001b[39;00m \u001b[38;5;21m_get_label\u001b[39m(\u001b[38;5;28mself\u001b[39m, label, axis: AxisInt):\n\u001b[0;32m   1292\u001b[0m     \u001b[38;5;66;03m# GH#5567 this will fail if the label is not present in the axis.\u001b[39;00m\n\u001b[1;32m-> 1293\u001b[0m     \u001b[38;5;28;01mreturn\u001b[39;00m \u001b[38;5;28;43mself\u001b[39;49m\u001b[38;5;241;43m.\u001b[39;49m\u001b[43mobj\u001b[49m\u001b[38;5;241;43m.\u001b[39;49m\u001b[43mxs\u001b[49m\u001b[43m(\u001b[49m\u001b[43mlabel\u001b[49m\u001b[43m,\u001b[49m\u001b[43m \u001b[49m\u001b[43maxis\u001b[49m\u001b[38;5;241;43m=\u001b[39;49m\u001b[43maxis\u001b[49m\u001b[43m)\u001b[49m\n",
      "File \u001b[1;32md:\\Miniconda3\\envs\\8007project\\lib\\site-packages\\pandas\\core\\generic.py:4095\u001b[0m, in \u001b[0;36mNDFrame.xs\u001b[1;34m(self, key, axis, level, drop_level)\u001b[0m\n\u001b[0;32m   4093\u001b[0m             new_index \u001b[38;5;241m=\u001b[39m index[loc]\n\u001b[0;32m   4094\u001b[0m \u001b[38;5;28;01melse\u001b[39;00m:\n\u001b[1;32m-> 4095\u001b[0m     loc \u001b[38;5;241m=\u001b[39m \u001b[43mindex\u001b[49m\u001b[38;5;241;43m.\u001b[39;49m\u001b[43mget_loc\u001b[49m\u001b[43m(\u001b[49m\u001b[43mkey\u001b[49m\u001b[43m)\u001b[49m\n\u001b[0;32m   4097\u001b[0m     \u001b[38;5;28;01mif\u001b[39;00m \u001b[38;5;28misinstance\u001b[39m(loc, np\u001b[38;5;241m.\u001b[39mndarray):\n\u001b[0;32m   4098\u001b[0m         \u001b[38;5;28;01mif\u001b[39;00m loc\u001b[38;5;241m.\u001b[39mdtype \u001b[38;5;241m==\u001b[39m np\u001b[38;5;241m.\u001b[39mbool_:\n",
      "File \u001b[1;32md:\\Miniconda3\\envs\\8007project\\lib\\site-packages\\pandas\\core\\indexes\\base.py:3655\u001b[0m, in \u001b[0;36mIndex.get_loc\u001b[1;34m(self, key)\u001b[0m\n\u001b[0;32m   3653\u001b[0m     \u001b[38;5;28;01mreturn\u001b[39;00m \u001b[38;5;28mself\u001b[39m\u001b[38;5;241m.\u001b[39m_engine\u001b[38;5;241m.\u001b[39mget_loc(casted_key)\n\u001b[0;32m   3654\u001b[0m \u001b[38;5;28;01mexcept\u001b[39;00m \u001b[38;5;167;01mKeyError\u001b[39;00m \u001b[38;5;28;01mas\u001b[39;00m err:\n\u001b[1;32m-> 3655\u001b[0m     \u001b[38;5;28;01mraise\u001b[39;00m \u001b[38;5;167;01mKeyError\u001b[39;00m(key) \u001b[38;5;28;01mfrom\u001b[39;00m \u001b[38;5;21;01merr\u001b[39;00m\n\u001b[0;32m   3656\u001b[0m \u001b[38;5;28;01mexcept\u001b[39;00m \u001b[38;5;167;01mTypeError\u001b[39;00m:\n\u001b[0;32m   3657\u001b[0m     \u001b[38;5;66;03m# If we have a listlike key, _check_indexing_error will raise\u001b[39;00m\n\u001b[0;32m   3658\u001b[0m     \u001b[38;5;66;03m#  InvalidIndexError. Otherwise we fall through and re-raise\u001b[39;00m\n\u001b[0;32m   3659\u001b[0m     \u001b[38;5;66;03m#  the TypeError.\u001b[39;00m\n\u001b[0;32m   3660\u001b[0m     \u001b[38;5;28mself\u001b[39m\u001b[38;5;241m.\u001b[39m_check_indexing_error(key)\n",
      "\u001b[1;31mKeyError\u001b[0m: 'OhECKhQEexFypOMY6kypRw'"
     ]
    }
   ],
   "source": [
    "user_fe = np.array([all_user.loc[k].tolist() for k in user_node_set_map.keys()])"
   ]
  },
  {
   "cell_type": "code",
   "execution_count": null,
   "id": "e67df082",
   "metadata": {},
   "outputs": [
    {
     "name": "stdout",
     "output_type": "stream",
     "text": [
      "<class 'pandas.core.frame.DataFrame'>\n",
      "Index: 3535 entries, Si6LXSR9gvAbmgO5DzV2cw to _eafo0pYcxOvziwR4JXj_Q\n",
      "Data columns (total 14 columns):\n",
      " #   Column        Non-Null Count  Dtype  \n",
      "---  ------        --------------  -----  \n",
      " 0   Unnamed: 0    3535 non-null   int64  \n",
      " 1   name          3535 non-null   object \n",
      " 2   address       3485 non-null   object \n",
      " 3   city          3535 non-null   object \n",
      " 4   state         3535 non-null   object \n",
      " 5   postal_code   3532 non-null   float64\n",
      " 6   latitude      3535 non-null   float64\n",
      " 7   longitude     3535 non-null   float64\n",
      " 8   stars         3535 non-null   float64\n",
      " 9   review_count  3535 non-null   int64  \n",
      " 10  is_open       3535 non-null   int64  \n",
      " 11  attributes    3515 non-null   object \n",
      " 12  categories    3535 non-null   object \n",
      " 13  hours         2968 non-null   object \n",
      "dtypes: float64(4), int64(3), object(7)\n",
      "memory usage: 414.3+ KB\n"
     ]
    }
   ],
   "source": [
    "all_poi = pd.read_csv(\"../cleaned_data/splited_data/train/new_business.csv\")\n",
    "all_poi.set_index(\"business_id\", inplace=True)\n",
    "all_poi = all_poi[[\"stars\", \"review_count\", \"categories\"]]\n",
    "m=np.linalg.norm(all_poi[\"stars\"])\n",
    "res=all_poi[\"stars\"]/m\n",
    "all_poi[\"stars\"] = res\n",
    "\n",
    "rec_min = np.min(all_poi[\"review_count\"])\n",
    "rec_max = np.max(all_poi[\"review_count\"])\n",
    "all_poi[\"review_count\"] = (all_poi[\"review_count\"] - rec_min) / (rec_max - rec_min)\n",
    "\n",
    "all_poi[\"categories\"] = all_poi[\"categories\"].map(\n",
    "    lambda x: [i for i in str(x).split(\", \") if i not in [\"Food\", \"Restaurants\"]]\n",
    "    if str(x) != \"nan\"\n",
    "    else []\n",
    ")\n",
    "all_poi.info()"
   ]
  },
  {
   "cell_type": "code",
   "execution_count": null,
   "id": "e1388c67",
   "metadata": {},
   "outputs": [
    {
     "data": {
      "text/plain": [
       "(60, 0.7910258962677772)"
      ]
     },
     "execution_count": 16,
     "metadata": {},
     "output_type": "execute_result"
    }
   ],
   "source": [
    "poi_all_cats = list(\n",
    "    set(\n",
    "        sum(\n",
    "            all_poi[\"categories\"].to_list(),\n",
    "            [],\n",
    "        )\n",
    "    )\n",
    ")\n",
    "poi_filtered_cats = [\n",
    "    poi_all_cats[i]\n",
    "    for i in np.where(\n",
    "        np.array(\n",
    "            [\n",
    "                all_poi[\"categories\"].map(lambda x: cat in x).sum()\n",
    "                for cat in poi_all_cats\n",
    "            ]\n",
    "        )\n",
    "        > 20\n",
    "    )[0]\n",
    "]\n",
    "X = np.array([[cat in i for cat in poi_filtered_cats] for i in all_poi[\"categories\"]])\n",
    "pca = PCA(n_components=25)\n",
    "X = pca.fit_transform(X)\n",
    "X_dict = dict(zip(all_poi.index, X.tolist()))\n",
    "len(poi_filtered_cats), pca.explained_variance_ratio_.sum()"
   ]
  },
  {
   "cell_type": "code",
   "execution_count": 17,
   "id": "8ce03a5e",
   "metadata": {},
   "outputs": [],
   "source": [
    "poi_fe = np.array(\n",
    "    [all_poi.loc[k][:-1].tolist() + X_dict[k] for k in poi_node_set_map.keys()]\n",
    ")"
   ]
  },
  {
   "cell_type": "code",
   "execution_count": 18,
   "id": "38a6fb11",
   "metadata": {},
   "outputs": [],
   "source": [
    "np.save(\"../cleaned_data/graph_data/user_fe.npy\", user_fe)\n",
    "np.save(\"../cleaned_data/graph_data/poi_fe.npy\", poi_fe)"
   ]
  }
 ],
 "metadata": {
  "kernelspec": {
   "display_name": "8007_project",
   "language": "python",
   "name": "8007project"
  },
  "language_info": {
   "codemirror_mode": {
    "name": "ipython",
    "version": 3
   },
   "file_extension": ".py",
   "mimetype": "text/x-python",
   "name": "python",
   "nbconvert_exporter": "python",
   "pygments_lexer": "ipython3",
   "version": "3.8.19"
  },
  "toc": {
   "base_numbering": 1,
   "nav_menu": {},
   "number_sections": true,
   "sideBar": true,
   "skip_h1_title": false,
   "title_cell": "Table of Contents",
   "title_sidebar": "Contents",
   "toc_cell": false,
   "toc_position": {},
   "toc_section_display": true,
   "toc_window_display": false
  }
 },
 "nbformat": 4,
 "nbformat_minor": 5
}
