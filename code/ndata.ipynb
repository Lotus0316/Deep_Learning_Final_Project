{
 "cells": [
  {
   "cell_type": "code",
   "execution_count": 3,
   "id": "5da8f71a",
   "metadata": {
    "ExecuteTime": {
     "end_time": "2023-04-07T18:18:41.127520Z",
     "start_time": "2023-04-07T18:18:39.796266Z"
    }
   },
   "outputs": [],
   "source": [
    "import torch\n",
    "import dgl\n",
    "import numpy as np\n",
    "import pandas as pd\n",
    "from sklearn.decomposition import PCA"
   ]
  },
  {
   "cell_type": "code",
   "execution_count": 4,
   "id": "72dbdbec",
   "metadata": {
    "ExecuteTime": {
     "end_time": "2023-04-07T18:18:41.134429Z",
     "start_time": "2023-04-07T18:18:41.130493Z"
    }
   },
   "outputs": [],
   "source": [
    "node_type_file_path = \"../cleaned_data/graph_data/node_type_ID.txt\""
   ]
  },
  {
   "cell_type": "code",
   "execution_count": 5,
   "id": "c81af05d",
   "metadata": {
    "ExecuteTime": {
     "end_time": "2023-04-07T18:20:22.731323Z",
     "start_time": "2023-04-07T18:20:22.620357Z"
    }
   },
   "outputs": [
    {
     "ename": "FileNotFoundError",
     "evalue": "[Errno 2] No such file or directory: '../cleaned_data/graph_data/node_type_ID.txt'",
     "output_type": "error",
     "traceback": [
      "\u001b[1;31m---------------------------------------------------------------------------\u001b[0m",
      "\u001b[1;31mFileNotFoundError\u001b[0m                         Traceback (most recent call last)",
      "Cell \u001b[1;32mIn[5], line 5\u001b[0m\n\u001b[0;32m      2\u001b[0m user_node_set \u001b[38;5;241m=\u001b[39m []\n\u001b[0;32m      3\u001b[0m poi_node_set \u001b[38;5;241m=\u001b[39m []\n\u001b[1;32m----> 5\u001b[0m \u001b[38;5;28;01mwith\u001b[39;00m \u001b[38;5;28;43mopen\u001b[39;49m\u001b[43m(\u001b[49m\u001b[43mnode_type_file_path\u001b[49m\u001b[43m)\u001b[49m \u001b[38;5;28;01mas\u001b[39;00m f:\n\u001b[0;32m      6\u001b[0m     lines \u001b[38;5;241m=\u001b[39m f\u001b[38;5;241m.\u001b[39mreadlines()\n\u001b[0;32m      7\u001b[0m     \u001b[38;5;28;01mfor\u001b[39;00m line \u001b[38;5;129;01min\u001b[39;00m lines:\n",
      "File \u001b[1;32md:\\Miniconda3\\envs\\8007project\\lib\\site-packages\\IPython\\core\\interactiveshell.py:284\u001b[0m, in \u001b[0;36m_modified_open\u001b[1;34m(file, *args, **kwargs)\u001b[0m\n\u001b[0;32m    277\u001b[0m \u001b[38;5;28;01mif\u001b[39;00m file \u001b[38;5;129;01min\u001b[39;00m {\u001b[38;5;241m0\u001b[39m, \u001b[38;5;241m1\u001b[39m, \u001b[38;5;241m2\u001b[39m}:\n\u001b[0;32m    278\u001b[0m     \u001b[38;5;28;01mraise\u001b[39;00m \u001b[38;5;167;01mValueError\u001b[39;00m(\n\u001b[0;32m    279\u001b[0m         \u001b[38;5;124mf\u001b[39m\u001b[38;5;124m\"\u001b[39m\u001b[38;5;124mIPython won\u001b[39m\u001b[38;5;124m'\u001b[39m\u001b[38;5;124mt let you open fd=\u001b[39m\u001b[38;5;132;01m{\u001b[39;00mfile\u001b[38;5;132;01m}\u001b[39;00m\u001b[38;5;124m by default \u001b[39m\u001b[38;5;124m\"\u001b[39m\n\u001b[0;32m    280\u001b[0m         \u001b[38;5;124m\"\u001b[39m\u001b[38;5;124mas it is likely to crash IPython. If you know what you are doing, \u001b[39m\u001b[38;5;124m\"\u001b[39m\n\u001b[0;32m    281\u001b[0m         \u001b[38;5;124m\"\u001b[39m\u001b[38;5;124myou can use builtins\u001b[39m\u001b[38;5;124m'\u001b[39m\u001b[38;5;124m open.\u001b[39m\u001b[38;5;124m\"\u001b[39m\n\u001b[0;32m    282\u001b[0m     )\n\u001b[1;32m--> 284\u001b[0m \u001b[38;5;28;01mreturn\u001b[39;00m \u001b[43mio_open\u001b[49m\u001b[43m(\u001b[49m\u001b[43mfile\u001b[49m\u001b[43m,\u001b[49m\u001b[43m \u001b[49m\u001b[38;5;241;43m*\u001b[39;49m\u001b[43margs\u001b[49m\u001b[43m,\u001b[49m\u001b[43m \u001b[49m\u001b[38;5;241;43m*\u001b[39;49m\u001b[38;5;241;43m*\u001b[39;49m\u001b[43mkwargs\u001b[49m\u001b[43m)\u001b[49m\n",
      "\u001b[1;31mFileNotFoundError\u001b[0m: [Errno 2] No such file or directory: '../cleaned_data/graph_data/node_type_ID.txt'"
     ]
    }
   ],
   "source": [
    "node_type_index = {}  # ID: type\n",
    "user_node_set = []\n",
    "poi_node_set = []\n",
    "\n",
    "with open(node_type_file_path) as f:\n",
    "    lines = f.readlines()\n",
    "    for line in lines:\n",
    "        line_content = line.strip().split(\"\\t\")\n",
    "        node = line_content[0]\n",
    "        node_type = line_content[1]\n",
    "        node_type_index[node] = node_type\n",
    "\n",
    "        if node_type == \"P\":\n",
    "            poi_node_set.append(node)\n",
    "        elif node_type == \"U\":\n",
    "            user_node_set.append(node)"
   ]
  },
  {
   "cell_type": "code",
   "execution_count": 28,
   "id": "4322ac16",
   "metadata": {
    "ExecuteTime": {
     "end_time": "2023-04-07T18:20:22.757008Z",
     "start_time": "2023-04-07T18:20:22.733927Z"
    }
   },
   "outputs": [],
   "source": [
    "user_node_set_map = {node_id: i for i, node_id in enumerate(user_node_set)}\n",
    "poi_node_set_map = {node_id: i for i, node_id in enumerate(poi_node_set)}"
   ]
  },
  {
   "cell_type": "code",
   "execution_count": 29,
   "id": "6d4f5eb6",
   "metadata": {},
   "outputs": [],
   "source": [
    "def minus_mean(x):\n",
    "    return x - x.mean()"
   ]
  },
  {
   "cell_type": "code",
   "execution_count": null,
   "id": "3945aa3e",
   "metadata": {},
   "outputs": [],
   "source": [
    "all_user = pd.read_csv(\"../cleaned_data/splited_data/train/new_user.csv\")\n",
    "all_user.set_index(\"user_id\", inplace=True)\n",
    "all_user[\"elite\"] = all_user[\"elite\"].map(\n",
    "    lambda x: len(str(x).split(\",\")) if str(x) != \"nan\" else 0\n",
    ")\n",
    "all_user = all_user[[\"useful\", \"elite\", \"average_stars\"]]\n",
    "m=np.linalg.norm(all_user[\"useful\"])\n",
    "res=all_user[\"useful\"]/m\n",
    "all_user[\"useful\"] = res\n",
    "m=np.linalg.norm(all_user[\"elite\"])\n",
    "res=all_user[\"elite\"]/m\n",
    "all_user[\"elite\"] = res\n",
    "m=np.linalg.norm(all_user[\"average_stars\"])\n",
    "res=all_user[\"average_stars\"]/m\n",
    "all_user[\"average_stars\"] = res"
   ]
  },
  {
   "cell_type": "code",
   "execution_count": 31,
   "id": "648cd713",
   "metadata": {},
   "outputs": [],
   "source": [
    "user_fe = np.array([all_user.loc[k].tolist() for k in user_node_set_map.keys()])"
   ]
  },
  {
   "cell_type": "code",
   "execution_count": null,
   "id": "e67df082",
   "metadata": {},
   "outputs": [],
   "source": [
    "all_poi = pd.read_csv(\"../cleaned_data/splited_data/train/new_business.csv\")\n",
    "all_poi.set_index(\"business_id\", inplace=True)\n",
    "all_poi = all_poi[[\"stars\", \"is_open\", \"categories\"]]\n",
    "m=np.linalg.norm(all_poi[\"stars\"])\n",
    "res=all_poi[\"stars\"]/m\n",
    "all_poi[\"stars\"] = res\n",
    "all_poi[\"categories\"] = all_poi[\"categories\"].map(\n",
    "    lambda x: [i for i in str(x).split(\", \") if i not in [\"Food\", \"Restaurants\"]]\n",
    "    if str(x) != \"nan\"\n",
    "    else []\n",
    ")"
   ]
  },
  {
   "cell_type": "code",
   "execution_count": 34,
   "id": "e1388c67",
   "metadata": {},
   "outputs": [
    {
     "data": {
      "text/plain": [
       "(57, 0.8046142918930745)"
      ]
     },
     "execution_count": 34,
     "metadata": {},
     "output_type": "execute_result"
    }
   ],
   "source": [
    "poi_all_cats = list(\n",
    "    set(\n",
    "        sum(\n",
    "            all_poi[\"categories\"].to_list(),\n",
    "            [],\n",
    "        )\n",
    "    )\n",
    ")\n",
    "poi_filtered_cats = [\n",
    "    poi_all_cats[i]\n",
    "    for i in np.where(\n",
    "        np.array(\n",
    "            [\n",
    "                all_poi[\"categories\"].map(lambda x: cat in x).sum()\n",
    "                for cat in poi_all_cats\n",
    "            ]\n",
    "        )\n",
    "        > 20\n",
    "    )[0]\n",
    "]\n",
    "X = np.array([[cat in i for cat in poi_filtered_cats] for i in all_poi[\"categories\"]])\n",
    "pca = PCA(n_components=25)\n",
    "X = pca.fit_transform(X)\n",
    "X_dict = dict(zip(all_poi.index, X.tolist()))\n",
    "len(poi_filtered_cats), pca.explained_variance_ratio_.sum()"
   ]
  },
  {
   "cell_type": "code",
   "execution_count": 35,
   "id": "8ce03a5e",
   "metadata": {},
   "outputs": [],
   "source": [
    "poi_fe = np.array(\n",
    "    [all_poi.loc[k][:-1].tolist() + X_dict[k] for k in poi_node_set_map.keys()]\n",
    ")"
   ]
  },
  {
   "cell_type": "code",
   "execution_count": 36,
   "id": "38a6fb11",
   "metadata": {},
   "outputs": [],
   "source": [
    "np.save(\"user_fe.npy\", user_fe)\n",
    "np.save(\"poi_fe.npy\", poi_fe)"
   ]
  }
 ],
 "metadata": {
  "kernelspec": {
   "display_name": "8007_project",
   "language": "python",
   "name": "8007project"
  },
  "language_info": {
   "codemirror_mode": {
    "name": "ipython",
    "version": 3
   },
   "file_extension": ".py",
   "mimetype": "text/x-python",
   "name": "python",
   "nbconvert_exporter": "python",
   "pygments_lexer": "ipython3",
   "version": "3.8.19"
  },
  "toc": {
   "base_numbering": 1,
   "nav_menu": {},
   "number_sections": true,
   "sideBar": true,
   "skip_h1_title": false,
   "title_cell": "Table of Contents",
   "title_sidebar": "Contents",
   "toc_cell": false,
   "toc_position": {},
   "toc_section_display": true,
   "toc_window_display": false
  }
 },
 "nbformat": 4,
 "nbformat_minor": 5
}
