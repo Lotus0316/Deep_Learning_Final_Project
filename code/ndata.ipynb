{
 "cells": [
  {
   "cell_type": "code",
   "execution_count": 25,
   "id": "5da8f71a",
   "metadata": {
    "ExecuteTime": {
     "end_time": "2023-04-07T18:18:41.127520Z",
     "start_time": "2023-04-07T18:18:39.796266Z"
    }
   },
   "outputs": [],
   "source": [
    "import dgl\n",
    "import torch\n",
    "import numpy as np\n",
    "import pandas as pd\n",
    "from sklearn.decomposition import PCA"
   ]
  },
  {
   "cell_type": "code",
   "execution_count": 26,
   "id": "72dbdbec",
   "metadata": {
    "ExecuteTime": {
     "end_time": "2023-04-07T18:18:41.134429Z",
     "start_time": "2023-04-07T18:18:41.130493Z"
    }
   },
   "outputs": [],
   "source": [
    "node_type_file_path = \"/root/node_type_ID.txt\""
   ]
  },
  {
   "cell_type": "code",
   "execution_count": 27,
   "id": "c81af05d",
   "metadata": {
    "ExecuteTime": {
     "end_time": "2023-04-07T18:20:22.731323Z",
     "start_time": "2023-04-07T18:20:22.620357Z"
    }
   },
   "outputs": [],
   "source": [
    "node_type_index = {}  # ID: type\n",
    "user_node_set = []\n",
    "poi_node_set = []\n",
    "\n",
    "with open(node_type_file_path) as f:\n",
    "    lines = f.readlines()\n",
    "    for line in lines:\n",
    "        line_content = line.strip().split(\"\\t\")\n",
    "        node = line_content[0]\n",
    "        node_type = line_content[1]\n",
    "        node_type_index[node] = node_type\n",
    "\n",
    "        if node_type == \"P\":\n",
    "            poi_node_set.append(node)\n",
    "        elif node_type == \"U\":\n",
    "            user_node_set.append(node)"
   ]
  },
  {
   "cell_type": "code",
   "execution_count": 28,
   "id": "4322ac16",
   "metadata": {
    "ExecuteTime": {
     "end_time": "2023-04-07T18:20:22.757008Z",
     "start_time": "2023-04-07T18:20:22.733927Z"
    }
   },
   "outputs": [],
   "source": [
    "user_node_set_map = {node_id: i for i, node_id in enumerate(user_node_set)}\n",
    "poi_node_set_map = {node_id: i for i, node_id in enumerate(poi_node_set)}"
   ]
  },
  {
   "cell_type": "code",
   "execution_count": 29,
   "id": "6d4f5eb6",
   "metadata": {},
   "outputs": [],
   "source": [
    "def minus_mean(x):\n",
    "    return x - x.mean()"
   ]
  },
  {
   "cell_type": "code",
   "execution_count": 30,
   "id": "3945aa3e",
   "metadata": {},
   "outputs": [],
   "source": [
    "all_user = pd.read_csv(\"/root/autodl-tmp/my_file/new_user.csv\")\n",
    "all_user.set_index(\"user_id\", inplace=True)\n",
    "all_user[\"elite\"] = all_user[\"elite\"].map(\n",
    "    lambda x: len(str(x).split(\",\")) if str(x) != \"nan\" else 0\n",
    ")\n",
    "all_user = all_user[[\"useful\", \"elite\", \"average_stars\"]]\n",
    "m=np.linalg.norm(all_user[\"useful\"])\n",
    "res=all_user[\"useful\"]/m\n",
    "all_user[\"useful\"] = res\n",
    "m=np.linalg.norm(all_user[\"elite\"])\n",
    "res=all_user[\"elite\"]/m\n",
    "all_user[\"elite\"] = res\n",
    "m=np.linalg.norm(all_user[\"average_stars\"])\n",
    "res=all_user[\"average_stars\"]/m\n",
    "all_user[\"average_stars\"] = res"
   ]
  },
  {
   "cell_type": "code",
   "execution_count": 31,
   "id": "648cd713",
   "metadata": {},
   "outputs": [],
   "source": [
    "user_fe = np.array([all_user.loc[k].tolist() for k in user_node_set_map.keys()])"
   ]
  },
  {
   "cell_type": "code",
   "execution_count": 33,
   "id": "e67df082",
   "metadata": {},
   "outputs": [],
   "source": [
    "all_poi = pd.read_csv(\"/root/autodl-tmp/my_file/new_business.csv\")\n",
    "all_poi.set_index(\"business_id\", inplace=True)\n",
    "all_poi = all_poi[[\"stars\", \"is_open\", \"categories\"]]\n",
    "m=np.linalg.norm(all_poi[\"stars\"])\n",
    "res=all_poi[\"stars\"]/m\n",
    "all_poi[\"stars\"] = res\n",
    "all_poi[\"categories\"] = all_poi[\"categories\"].map(\n",
    "    lambda x: [i for i in str(x).split(\", \") if i not in [\"Food\", \"Restaurants\"]]\n",
    "    if str(x) != \"nan\"\n",
    "    else []\n",
    ")"
   ]
  },
  {
   "cell_type": "code",
   "execution_count": 34,
   "id": "e1388c67",
   "metadata": {},
   "outputs": [
    {
     "data": {
      "text/plain": [
       "(57, 0.8046142918930745)"
      ]
     },
     "execution_count": 34,
     "metadata": {},
     "output_type": "execute_result"
    }
   ],
   "source": [
    "poi_all_cats = list(\n",
    "    set(\n",
    "        sum(\n",
    "            all_poi[\"categories\"].to_list(),\n",
    "            [],\n",
    "        )\n",
    "    )\n",
    ")\n",
    "poi_filtered_cats = [\n",
    "    poi_all_cats[i]\n",
    "    for i in np.where(\n",
    "        np.array(\n",
    "            [\n",
    "                all_poi[\"categories\"].map(lambda x: cat in x).sum()\n",
    "                for cat in poi_all_cats\n",
    "            ]\n",
    "        )\n",
    "        > 20\n",
    "    )[0]\n",
    "]\n",
    "X = np.array([[cat in i for cat in poi_filtered_cats] for i in all_poi[\"categories\"]])\n",
    "pca = PCA(n_components=25)\n",
    "X = pca.fit_transform(X)\n",
    "X_dict = dict(zip(all_poi.index, X.tolist()))\n",
    "len(poi_filtered_cats), pca.explained_variance_ratio_.sum()"
   ]
  },
  {
   "cell_type": "code",
   "execution_count": 35,
   "id": "8ce03a5e",
   "metadata": {},
   "outputs": [],
   "source": [
    "poi_fe = np.array(\n",
    "    [all_poi.loc[k][:-1].tolist() + X_dict[k] for k in poi_node_set_map.keys()]\n",
    ")"
   ]
  },
  {
   "cell_type": "code",
   "execution_count": 36,
   "id": "38a6fb11",
   "metadata": {},
   "outputs": [],
   "source": [
    "np.save(\"user_fe.npy\", user_fe)\n",
    "np.save(\"poi_fe.npy\", poi_fe)"
   ]
  }
 ],
 "metadata": {
  "kernelspec": {
   "display_name": "Python 3 (ipykernel)",
   "language": "python",
   "name": "python3"
  },
  "language_info": {
   "codemirror_mode": {
    "name": "ipython",
    "version": 3
   },
   "file_extension": ".py",
   "mimetype": "text/x-python",
   "name": "python",
   "nbconvert_exporter": "python",
   "pygments_lexer": "ipython3",
   "version": "3.8.10"
  },
  "toc": {
   "base_numbering": 1,
   "nav_menu": {},
   "number_sections": true,
   "sideBar": true,
   "skip_h1_title": false,
   "title_cell": "Table of Contents",
   "title_sidebar": "Contents",
   "toc_cell": false,
   "toc_position": {},
   "toc_section_display": true,
   "toc_window_display": false
  }
 },
 "nbformat": 4,
 "nbformat_minor": 5
}
